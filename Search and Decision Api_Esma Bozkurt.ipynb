{
 "cells": [
  {
   "cell_type": "markdown",
   "metadata": {},
   "source": [
    "## Search Api ile belirli bir terimin geçtiği haberleri çektik ve temizledik. \n",
    "Ben içerisinde \"Veri Bilimi\" geçen haberleri çektim."
   ]
  },
  {
   "cell_type": "code",
   "execution_count": 1,
   "metadata": {},
   "outputs": [],
   "source": [
    "import requests\n",
    "import json\n",
    "subscription_key = \"97a076dd3be74fb28e43d74f4e1fa914\"\n",
    "search_term = \"Veri Bilimi\"\n",
    "search_url = \"https://api.bing.microsoft.com/v7.0/news/search\""
   ]
  },
  {
   "cell_type": "code",
   "execution_count": 2,
   "metadata": {},
   "outputs": [],
   "source": [
    "headers = {\"Ocp-Apim-Subscription-Key\" : subscription_key}\n",
    "params  = {\"q\": search_term, \"textDecorations\": True, \"textFormat\": \"HTML\"}"
   ]
  },
  {
   "cell_type": "code",
   "execution_count": 3,
   "metadata": {},
   "outputs": [],
   "source": [
    "response = requests.get(search_url, headers=headers, params=params)\n",
    "response.raise_for_status()\n",
    "search_results = json.dumps(response.json(),indent=4)"
   ]
  },
  {
   "cell_type": "code",
   "execution_count": 4,
   "metadata": {},
   "outputs": [],
   "source": [
    "search_result = json.loads(search_results)"
   ]
  },
  {
   "cell_type": "code",
   "execution_count": 5,
   "metadata": {},
   "outputs": [],
   "source": [
    "descriptions = [article[\"description\"] for article in search_result[\"value\"]]"
   ]
  },
  {
   "cell_type": "code",
   "execution_count": 6,
   "metadata": {},
   "outputs": [
    {
     "data": {
      "text/html": [
       "<table><tr><td>- Sabancı Üniversitesi&#39;nin Akbank ve Eczacıbaşı Holding iş birliği ile kamu ve özel sektör yöneticilerini bilim ve teknoloji ile buluşturmak üzere düzenlenen Teknolojinin Gücüyle Geleceğe Webinar Seri</td></tr>\n",
       "<tr><td>BluTV İnsan Kaynakları Direktörü Coşkun Özcan, özelikle veri bilimi, yapay zekâ, siber risk ve otomasyon gibi alanlarda çalışacak kişilere ihtiyaç olduğunu belirtiyor.</td></tr>\n",
       "<tr><td>İSTANBUL (AA) - Sabancı Üniversitesi&#39;nin Akbank ve Eczacıbaşı Holding iş birliği ile kamu ve özel sektör yöneticilerini bilim ve teknoloji</td></tr>\n",
       "<tr><td>Son dakika haberler - Koronavirüs gündemi ile Sağlık Bakanı Fahrettin Koca&#39;nın başkanlığında gerçekleştirilen Bilim Kurulu Toplantısı ne zaman sorusunun yanıtı sorgulanmaya başlandı. Haftanın ortasına</td></tr>\n",
       "<tr><td>NASA&#39;nın, Mars&#39;ta eskiden yaşam olup olmadığına dair yapılan araştırmalar için Salda Gölü&#39;nden veri topladığı açıklandı.</td></tr>\n",
       "<tr><td>NASA&#39;dan bilim insanları, Mars gezegeninde eskiden yaşam olup olmadığına dair yapılan incelemeler için Salda Gölü&#39;nden veri topluyor.</td></tr>\n",
       "<tr><td>Dünya genelinde evden uzaya kadar birçok farklı alanda faaliyet gösteren Mitsubishi Electric, inovatif çalışmalarıyla teknolojiye katkısını sürdürüyor Mitsubishi Ele</td></tr>\n",
       "<tr><td>Son dakika haberler - Koronavirüs gündemi ile Sağlık Bakanı Fahrettin Koca&#39;nın başkanlığında gerçekleştirilen Bilim Kurulu Toplantısı ne zaman sorusunun yanıtı sorgulanmaya başlandı. Haftanın ortasına</td></tr>\n",
       "<tr><td>Mitsubishi Electric Türkiye Başkanı Şevket Saraçoğlu, Mitsubishi Electric&#39;in önümüzdeki 100 yıl boyunca inovatif ve çağın ötesindeki teknolojileriyle dünyaya katkıda bulunmaya devam edeceğini bildirdi</td></tr>\n",
       "<tr><td>Prof. Davutoğlu Şenol, Twitter hesabından Türkiye genelinde risk derecesine göre karar verilen kademeli normalleşme adımlarını değerlendirdi. Davutoğlu Şenol, risk haritasını paylaşarak, &quot;Açılmalar ve</td></tr></table>"
      ],
      "text/plain": [
       "<IPython.core.display.HTML object>"
      ]
     },
     "execution_count": 6,
     "metadata": {},
     "output_type": "execute_result"
    }
   ],
   "source": [
    "from IPython.display import HTML\n",
    "rows = \"\\n\".join([\"<tr><td>{0}</td></tr>\".format(desc)\n",
    "                  for desc in descriptions])\n",
    "HTML(\"<table>\"+rows+\"</table>\")"
   ]
  },
  {
   "cell_type": "code",
   "execution_count": 7,
   "metadata": {},
   "outputs": [
    {
     "data": {
      "text/plain": [
       "'<tr><td>- Sabancı Üniversitesi&#39;nin Akbank ve Eczacıbaşı Holding iş birliği ile kamu ve özel sektör yöneticilerini bilim ve teknoloji ile buluşturmak üzere düzenlenen Teknolojinin Gücüyle Geleceğe Webinar Seri</td></tr>\\n<tr><td>BluTV İnsan Kaynakları Direktörü Coşkun Özcan, özelikle veri bilimi, yapay zekâ, siber risk ve otomasyon gibi alanlarda çalışacak kişilere ihtiyaç olduğunu belirtiyor.</td></tr>\\n<tr><td>İSTANBUL (AA) - Sabancı Üniversitesi&#39;nin Akbank ve Eczacıbaşı Holding iş birliği ile kamu ve özel sektör yöneticilerini bilim ve teknoloji</td></tr>\\n<tr><td>Son dakika haberler - Koronavirüs gündemi ile Sağlık Bakanı Fahrettin Koca&#39;nın başkanlığında gerçekleştirilen Bilim Kurulu Toplantısı ne zaman sorusunun yanıtı sorgulanmaya başlandı. Haftanın ortasına</td></tr>\\n<tr><td>NASA&#39;nın, Mars&#39;ta eskiden yaşam olup olmadığına dair yapılan araştırmalar için Salda Gölü&#39;nden veri topladığı açıklandı.</td></tr>\\n<tr><td>NASA&#39;dan bilim insanları, Mars gezegeninde eskiden yaşam olup olmadığına dair yapılan incelemeler için Salda Gölü&#39;nden veri topluyor.</td></tr>\\n<tr><td>Dünya genelinde evden uzaya kadar birçok farklı alanda faaliyet gösteren Mitsubishi Electric, inovatif çalışmalarıyla teknolojiye katkısını sürdürüyor Mitsubishi Ele</td></tr>\\n<tr><td>Son dakika haberler - Koronavirüs gündemi ile Sağlık Bakanı Fahrettin Koca&#39;nın başkanlığında gerçekleştirilen Bilim Kurulu Toplantısı ne zaman sorusunun yanıtı sorgulanmaya başlandı. Haftanın ortasına</td></tr>\\n<tr><td>Mitsubishi Electric Türkiye Başkanı Şevket Saraçoğlu, Mitsubishi Electric&#39;in önümüzdeki 100 yıl boyunca inovatif ve çağın ötesindeki teknolojileriyle dünyaya katkıda bulunmaya devam edeceğini bildirdi</td></tr>\\n<tr><td>Prof. Davutoğlu Şenol, Twitter hesabından Türkiye genelinde risk derecesine göre karar verilen kademeli normalleşme adımlarını değerlendirdi. Davutoğlu Şenol, risk haritasını paylaşarak, &quot;Açılmalar ve</td></tr>'"
      ]
     },
     "execution_count": 7,
     "metadata": {},
     "output_type": "execute_result"
    }
   ],
   "source": [
    "rows"
   ]
  },
  {
   "cell_type": "code",
   "execution_count": 8,
   "metadata": {},
   "outputs": [],
   "source": [
    "x = rows.split(\"<tr><td>\")"
   ]
  },
  {
   "cell_type": "code",
   "execution_count": 9,
   "metadata": {},
   "outputs": [],
   "source": [
    "for i in range(len(x)):\n",
    "    x[i]=x[i].replace('</td></tr>\\n',\"\")\n",
    "    x[i]=x[i].replace('</td></tr>',\"\")\n",
    "    x[i]=x[i].replace('&#39;',\"'\")\n",
    "    x[i]=x[i].replace('&quot;',\"'\")"
   ]
  },
  {
   "cell_type": "code",
   "execution_count": 10,
   "metadata": {},
   "outputs": [
    {
     "data": {
      "text/plain": [
       "['',\n",
       " \"- Sabancı Üniversitesi'nin Akbank ve Eczacıbaşı Holding iş birliği ile kamu ve özel sektör yöneticilerini bilim ve teknoloji ile buluşturmak üzere düzenlenen Teknolojinin Gücüyle Geleceğe Webinar Seri\",\n",
       " 'BluTV İnsan Kaynakları Direktörü Coşkun Özcan, özelikle veri bilimi, yapay zekâ, siber risk ve otomasyon gibi alanlarda çalışacak kişilere ihtiyaç olduğunu belirtiyor.',\n",
       " \"İSTANBUL (AA) - Sabancı Üniversitesi'nin Akbank ve Eczacıbaşı Holding iş birliği ile kamu ve özel sektör yöneticilerini bilim ve teknoloji\",\n",
       " \"Son dakika haberler - Koronavirüs gündemi ile Sağlık Bakanı Fahrettin Koca'nın başkanlığında gerçekleştirilen Bilim Kurulu Toplantısı ne zaman sorusunun yanıtı sorgulanmaya başlandı. Haftanın ortasına\",\n",
       " \"NASA'nın, Mars'ta eskiden yaşam olup olmadığına dair yapılan araştırmalar için Salda Gölü'nden veri topladığı açıklandı.\",\n",
       " \"NASA'dan bilim insanları, Mars gezegeninde eskiden yaşam olup olmadığına dair yapılan incelemeler için Salda Gölü'nden veri topluyor.\",\n",
       " 'Dünya genelinde evden uzaya kadar birçok farklı alanda faaliyet gösteren Mitsubishi Electric, inovatif çalışmalarıyla teknolojiye katkısını sürdürüyor Mitsubishi Ele',\n",
       " \"Son dakika haberler - Koronavirüs gündemi ile Sağlık Bakanı Fahrettin Koca'nın başkanlığında gerçekleştirilen Bilim Kurulu Toplantısı ne zaman sorusunun yanıtı sorgulanmaya başlandı. Haftanın ortasına\",\n",
       " \"Mitsubishi Electric Türkiye Başkanı Şevket Saraçoğlu, Mitsubishi Electric'in önümüzdeki 100 yıl boyunca inovatif ve çağın ötesindeki teknolojileriyle dünyaya katkıda bulunmaya devam edeceğini bildirdi\",\n",
       " \"Prof. Davutoğlu Şenol, Twitter hesabından Türkiye genelinde risk derecesine göre karar verilen kademeli normalleşme adımlarını değerlendirdi. Davutoğlu Şenol, risk haritasını paylaşarak, 'Açılmalar ve\"]"
      ]
     },
     "execution_count": 10,
     "metadata": {},
     "output_type": "execute_result"
    }
   ],
   "source": [
    "x"
   ]
  },
  {
   "cell_type": "code",
   "execution_count": 11,
   "metadata": {},
   "outputs": [
    {
     "name": "stdout",
     "output_type": "stream",
     "text": [
      " - Sabancı Üniversitesi'nin Akbank ve Eczacıbaşı Holding iş birliği ile kamu ve özel sektör yöneticilerini bilim ve teknoloji ile buluşturmak üzere düzenlenen Teknolojinin Gücüyle Geleceğe Webinar Seri BluTV İnsan Kaynakları Direktörü Coşkun Özcan, özelikle veri bilimi, yapay zekâ, siber risk ve otomasyon gibi alanlarda çalışacak kişilere ihtiyaç olduğunu belirtiyor. İSTANBUL (AA) - Sabancı Üniversitesi'nin Akbank ve Eczacıbaşı Holding iş birliği ile kamu ve özel sektör yöneticilerini bilim ve teknoloji Son dakika haberler - Koronavirüs gündemi ile Sağlık Bakanı Fahrettin Koca'nın başkanlığında gerçekleştirilen Bilim Kurulu Toplantısı ne zaman sorusunun yanıtı sorgulanmaya başlandı. Haftanın ortasına NASA'nın, Mars'ta eskiden yaşam olup olmadığına dair yapılan araştırmalar için Salda Gölü'nden veri topladığı açıklandı. NASA'dan bilim insanları, Mars gezegeninde eskiden yaşam olup olmadığına dair yapılan incelemeler için Salda Gölü'nden veri topluyor. Dünya genelinde evden uzaya kadar birçok farklı alanda faaliyet gösteren Mitsubishi Electric, inovatif çalışmalarıyla teknolojiye katkısını sürdürüyor Mitsubishi Ele Son dakika haberler - Koronavirüs gündemi ile Sağlık Bakanı Fahrettin Koca'nın başkanlığında gerçekleştirilen Bilim Kurulu Toplantısı ne zaman sorusunun yanıtı sorgulanmaya başlandı. Haftanın ortasına Mitsubishi Electric Türkiye Başkanı Şevket Saraçoğlu, Mitsubishi Electric'in önümüzdeki 100 yıl boyunca inovatif ve çağın ötesindeki teknolojileriyle dünyaya katkıda bulunmaya devam edeceğini bildirdi Prof. Davutoğlu Şenol, Twitter hesabından Türkiye genelinde risk derecesine göre karar verilen kademeli normalleşme adımlarını değerlendirdi. Davutoğlu Şenol, risk haritasını paylaşarak, 'Açılmalar ve\n"
     ]
    }
   ],
   "source": [
    "def listToString(s):  \n",
    "    \n",
    "    # initialize an empty string \n",
    "    str1 = \" \" \n",
    "    \n",
    "    # return string   \n",
    "    return (str1.join(s)) \n",
    "        \n",
    "        \n",
    "# Driver code     \n",
    "#s = ['Geeks', 'for', 'Geeks'] \n",
    "x=listToString(x)\n",
    "print(x) "
   ]
  },
  {
   "cell_type": "markdown",
   "metadata": {},
   "source": [
    "## Decision Api ile (Text Analysis) haberin duygu(sentiment) analizini yaptık."
   ]
  },
  {
   "cell_type": "code",
   "execution_count": 12,
   "metadata": {},
   "outputs": [
    {
     "name": "stdout",
     "output_type": "stream",
     "text": [
      "Requirement already satisfied: azure-ai-textanalytics in c:\\users\\90531\\anaconda3\\lib\\site-packages (5.1.0b6)Note: you may need to restart the kernel to use updated packages.\n",
      "\n",
      "Requirement already satisfied: azure-core<2.0.0,>=1.8.2 in c:\\users\\90531\\anaconda3\\lib\\site-packages (from azure-ai-textanalytics) (1.10.0)\n",
      "Requirement already satisfied: msrest>=0.6.0 in c:\\users\\90531\\anaconda3\\lib\\site-packages (from azure-ai-textanalytics) (0.6.21)\n",
      "Requirement already satisfied: six>=1.11.0 in c:\\users\\90531\\anaconda3\\lib\\site-packages (from azure-ai-textanalytics) (1.15.0)\n",
      "Requirement already satisfied: azure-common~=1.1 in c:\\users\\90531\\anaconda3\\lib\\site-packages (from azure-ai-textanalytics) (1.1.26)\n",
      "Requirement already satisfied: requests>=2.18.4 in c:\\users\\90531\\anaconda3\\lib\\site-packages (from azure-core<2.0.0,>=1.8.2->azure-ai-textanalytics) (2.24.0)\n",
      "Requirement already satisfied: certifi>=2017.4.17 in c:\\users\\90531\\anaconda3\\lib\\site-packages (from msrest>=0.6.0->azure-ai-textanalytics) (2020.6.20)\n",
      "Requirement already satisfied: isodate>=0.6.0 in c:\\users\\90531\\anaconda3\\lib\\site-packages (from msrest>=0.6.0->azure-ai-textanalytics) (0.6.0)\n",
      "Requirement already satisfied: requests-oauthlib>=0.5.0 in c:\\users\\90531\\anaconda3\\lib\\site-packages (from msrest>=0.6.0->azure-ai-textanalytics) (1.3.0)\n",
      "Requirement already satisfied: chardet<4,>=3.0.2 in c:\\users\\90531\\anaconda3\\lib\\site-packages (from requests>=2.18.4->azure-core<2.0.0,>=1.8.2->azure-ai-textanalytics) (3.0.4)\n",
      "Requirement already satisfied: idna<3,>=2.5 in c:\\users\\90531\\anaconda3\\lib\\site-packages (from requests>=2.18.4->azure-core<2.0.0,>=1.8.2->azure-ai-textanalytics) (2.10)\n",
      "Requirement already satisfied: urllib3!=1.25.0,!=1.25.1,<1.26,>=1.21.1 in c:\\users\\90531\\anaconda3\\lib\\site-packages (from requests>=2.18.4->azure-core<2.0.0,>=1.8.2->azure-ai-textanalytics) (1.25.11)\n",
      "Requirement already satisfied: oauthlib>=3.0.0 in c:\\users\\90531\\anaconda3\\lib\\site-packages (from requests-oauthlib>=0.5.0->msrest>=0.6.0->azure-ai-textanalytics) (3.1.0)\n"
     ]
    }
   ],
   "source": [
    "pip install azure-ai-textanalytics --pre"
   ]
  },
  {
   "cell_type": "code",
   "execution_count": 13,
   "metadata": {},
   "outputs": [],
   "source": [
    "key = \"a022285070ea433d826d6d97e4454691\"\n",
    "endpoint = \"https://txtanalyse.cognitiveservices.azure.com/\""
   ]
  },
  {
   "cell_type": "code",
   "execution_count": 14,
   "metadata": {},
   "outputs": [],
   "source": [
    "from azure.ai.textanalytics import TextAnalyticsClient\n",
    "from azure.core.credentials import AzureKeyCredential\n",
    "\n",
    "def authenticate_client():\n",
    "    ta_credential = AzureKeyCredential(key)\n",
    "    text_analytics_client = TextAnalyticsClient(\n",
    "            endpoint=endpoint, \n",
    "            credential=ta_credential)\n",
    "    return text_analytics_client\n",
    "\n",
    "client = authenticate_client()"
   ]
  },
  {
   "cell_type": "code",
   "execution_count": 15,
   "metadata": {},
   "outputs": [
    {
     "name": "stdout",
     "output_type": "stream",
     "text": [
      "Document Sentiment: mixed\n",
      "Overall scores: positive=0.33; neutral=0.16; negative=0.51 \n",
      "\n",
      "Sentence:  - Sabancı Üniversitesi'nin Akbank ve Eczacıbaşı Holding iş birliği ile kamu ve özel sektör yöneticilerini bilim ve teknoloji ile buluşturmak üzere düzenlenen Teknolojinin Gücüyle Geleceğe Webinar Seri BluTV İnsan Kaynakları Direktörü Coşkun Özcan, özelikle veri bilimi, yapay zekâ, siber risk ve otomasyon gibi alanlarda çalışacak kişilere ihtiyaç olduğunu belirtiyor.\n",
      "Sentence 1 sentiment: positive\n",
      "Sentence score:\n",
      "Positive=0.62\n",
      "Neutral=0.26\n",
      "Negative=0.12\n",
      "\n",
      "Sentence: İSTANBUL (AA) - Sabancı Üniversitesi'nin Akbank ve Eczacıbaşı Holding iş birliği ile kamu ve özel sektör yöneticilerini bilim ve teknoloji Son dakika haberler - Koronavirüs gündemi ile Sağlık Bakanı Fahrettin Koca'nın başkanlığında gerçekleştirilen Bilim Kurulu Toplantısı ne zaman sorusunun yanıtı sorgulanmaya başlandı.\n",
      "Sentence 2 sentiment: neutral\n",
      "Sentence score:\n",
      "Positive=0.01\n",
      "Neutral=0.99\n",
      "Negative=0.00\n",
      "\n",
      "Sentence: Haftanın ortasına NASA'nın, Mars'ta eskiden yaşam olup olmadığına dair yapılan araştırmalar için Salda Gölü'nden veri topladığı açıklandı.\n",
      "Sentence 3 sentiment: neutral\n",
      "Sentence score:\n",
      "Positive=0.07\n",
      "Neutral=0.91\n",
      "Negative=0.02\n",
      "\n",
      "Sentence: NASA'dan bilim insanları, Mars gezegeninde eskiden yaşam olup olmadığına dair yapılan incelemeler için Salda Gölü'nden veri topluyor.\n",
      "Sentence 4 sentiment: neutral\n",
      "Sentence score:\n",
      "Positive=0.04\n",
      "Neutral=0.95\n",
      "Negative=0.01\n",
      "\n",
      "Sentence: Dünya genelinde evden uzaya kadar birçok farklı alanda faaliyet gösteren Mitsubishi Electric, inovatif çalışmalarıyla teknolojiye katkısını sürdürüyor Mitsubishi Ele Son dakika haberler - Koronavirüs gündemi ile Sağlık Bakanı Fahrettin Koca'nın başkanlığında gerçekleştirilen Bilim Kurulu Toplantısı ne zaman sorusunun yanıtı sorgulanmaya başlandı.\n",
      "Sentence 5 sentiment: neutral\n",
      "Sentence score:\n",
      "Positive=0.04\n",
      "Neutral=0.95\n",
      "Negative=0.01\n",
      "\n",
      "Sentence: Haftanın ortasına Mitsubishi Electric Türkiye Başkanı Şevket Saraçoğlu, Mitsubishi Electric'in önümüzdeki 100 yıl boyunca inovatif ve çağın ötesindeki teknolojileriyle dünyaya katkıda bulunmaya devam edeceğini bildirdi Prof. Davutoğlu Şenol, Twitter hesabından Türkiye genelinde risk derecesine göre karar verilen kademeli normalleşme adımlarını değerlendirdi.\n",
      "Sentence 6 sentiment: neutral\n",
      "Sentence score:\n",
      "Positive=0.01\n",
      "Neutral=0.72\n",
      "Negative=0.27\n",
      "\n",
      "Sentence: Davutoğlu Şenol, risk haritasını paylaşarak, 'Açılmalar ve\n",
      "Sentence 7 sentiment: negative\n",
      "Sentence score:\n",
      "Positive=0.03\n",
      "Neutral=0.07\n",
      "Negative=0.90\n",
      "\n"
     ]
    }
   ],
   "source": [
    "def sentiment_analysis_example(client):\n",
    "\n",
    "    #documents = [\"Microsoft'un e-posta servisine, çok karmaşık ve kompleks bir saldırı düzenlendiği ve 60 binden fazla insanın hacklendiği belirtildi. Microsoft'a düzenlenen bir siber saldırı noktasında yaklaşık 30 bin şirket ve kuruma ait bilgilerin çalışmış olabileceği üzerinde duruluyor. Teknoloji devi Microsoft'un e-posta servisine çok karmaşık ve kompleks bir saldırı gerçekleştirildi. Yaşanan siber saldırıda yaklaşık 60 binden fazla insanın hesabının çalındığı iddia edildi. Microsoft Corp.’un geniş çapta kullanılan email yazılımına gerçekleştirilen sofistike siber saldırı, giderek küresel bir siber güvenlik krizine doğru evriliyor. Microsoft, Bethesda Softworks'ün sahibi ZeniMax Media'yı 7.5 milyar dolar karşılığında satın almak için anlaşmaya varmıştı.Oyun endüstrisinin en büyük şirketlerinden biri olan Microsoft, geçtiğimiz yılın sonlarında paylaşmış olduğu bir açıklama ile sektörün en büyük oyun stüdyolarından Bethesda ’yı satın aldığını duyurmuş. Amerika Birleşik Devletleri merkezli teknoloji ve yazılım devi Microsoft, Google'ın Chromium işleme motoru tarafından desteklenen yeni Edge tarayıcısını daha popüler hale getirmek için yeni özellikler eklemeye devam eden Microsoft, bu sefer de Edge'e bir 'matematik çözücü' ekliyor. Hologram tabanlı karma gerçeklik iletişim platformu Microsoft Mesh yeni bir dünya sunuyor. Microsoft Ignite konferansı sırasında Microsoft Mesh adlı yeniYüksek performanslı kamera üretimi gerçekleştiren LG Innotek, Microsoft'un bulut bilişim hizmeti Azure için 3D algılama bileşeni geliştirecek ve tedarik edecek.\"]\n",
    "    documents = [x]\n",
    "    response = client.analyze_sentiment(documents=documents)[0]\n",
    "    print(\"Document Sentiment: {}\".format(response.sentiment))\n",
    "    print(\"Overall scores: positive={0:.2f}; neutral={1:.2f}; negative={2:.2f} \\n\".format(\n",
    "        response.confidence_scores.positive,\n",
    "        response.confidence_scores.neutral,\n",
    "        response.confidence_scores.negative,\n",
    "    ))\n",
    "    for idx, sentence in enumerate(response.sentences):\n",
    "        print(\"Sentence: {}\".format(sentence.text))\n",
    "        print(\"Sentence {} sentiment: {}\".format(idx+1, sentence.sentiment))\n",
    "        print(\"Sentence score:\\nPositive={0:.2f}\\nNeutral={1:.2f}\\nNegative={2:.2f}\\n\".format(\n",
    "            sentence.confidence_scores.positive,\n",
    "            sentence.confidence_scores.neutral,\n",
    "            sentence.confidence_scores.negative,\n",
    "        ))\n",
    "          \n",
    "sentiment_analysis_example(client)"
   ]
  },
  {
   "cell_type": "code",
   "execution_count": null,
   "metadata": {},
   "outputs": [],
   "source": []
  }
 ],
 "metadata": {
  "kernelspec": {
   "display_name": "Python 3",
   "language": "python",
   "name": "python3"
  },
  "language_info": {
   "codemirror_mode": {
    "name": "ipython",
    "version": 3
   },
   "file_extension": ".py",
   "mimetype": "text/x-python",
   "name": "python",
   "nbconvert_exporter": "python",
   "pygments_lexer": "ipython3",
   "version": "3.8.5"
  }
 },
 "nbformat": 4,
 "nbformat_minor": 4
}
